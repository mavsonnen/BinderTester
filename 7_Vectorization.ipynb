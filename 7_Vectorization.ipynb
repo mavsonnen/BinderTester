{
 "cells": [
  {
   "cell_type": "markdown",
   "metadata": {},
   "source": [
    "# VECTORIZATION"
   ]
  },
  {
   "cell_type": "code",
   "execution_count": 22,
   "metadata": {},
   "outputs": [],
   "source": [
    "#import libraries\n",
    "from osgeo import gdal, ogr"
   ]
  },
  {
   "cell_type": "markdown",
   "metadata": {},
   "source": [
    "##### set up the environment"
   ]
  },
  {
   "cell_type": "code",
   "execution_count": 23,
   "metadata": {},
   "outputs": [],
   "source": [
    "#use exceptions to avoid any errors or warnings\n",
    "gdal.UseExceptions()\n",
    "\n",
    "#directory input. open raster to poligonize\n",
    "imag_results = gdal.Open('/home/jovyan/Output/rasteriop.tif')\n",
    "\n",
    "#set driver\n",
    "driver = ogr.GetDriverByName('ESRI Shapefile')\n",
    "\n",
    "#out data, and extension set\n",
    "out_file = driver.CreateDataSource('/home/jovyan/Output/new3.shp')"
   ]
  },
  {
   "cell_type": "markdown",
   "metadata": {},
   "source": [
    "##### set the input data for the parameters"
   ]
  },
  {
   "cell_type": "code",
   "execution_count": 24,
   "metadata": {},
   "outputs": [
    {
     "name": "stdout",
     "output_type": "stream",
     "text": [
      "finish\n"
     ]
    }
   ],
   "source": [
    "#use the opcion for choose the band\n",
    "choose_band = imag_results.GetRasterBand(1)\n",
    "\n",
    "#create layer, optional spatial reference\n",
    "out_layer = out_file.CreateLayer('raster_to_vector', srs=None)\n",
    "\n",
    "#create a field, one or more\n",
    "new_field = ogr.FieldDefn(str(1), ogr.OFTInteger)\n",
    "out_layer.CreateField(new_field)\n",
    "\n",
    "#enter the parameters into gdal.poligonize\n",
    "gdal.Polygonize(choose_band, None, out_layer, 0, [], callback=None)\n",
    "#close in memory\n",
    "out_file=None\n",
    "\n",
    "print (\"finish\")"
   ]
  }
 ],
 "metadata": {
  "kernelspec": {
   "display_name": "Python 3",
   "language": "python",
   "name": "python3"
  },
  "language_info": {
   "codemirror_mode": {
    "name": "ipython",
    "version": 3
   },
   "file_extension": ".py",
   "mimetype": "text/x-python",
   "name": "python",
   "nbconvert_exporter": "python",
   "pygments_lexer": "ipython3",
   "version": "3.8.6"
  }
 },
 "nbformat": 4,
 "nbformat_minor": 4
}