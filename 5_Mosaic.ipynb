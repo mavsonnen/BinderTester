{
 "cells": [
  {
   "cell_type": "markdown",
   "metadata": {},
   "source": [
    "# MOSAIC"
   ]
  },
  {
   "cell_type": "code",
   "execution_count": 2,
   "metadata": {},
   "outputs": [],
   "source": [
    "#we need import necessary libraries\n",
    "import rasterio\n",
    "from rasterio.merge import merge\n",
    "import glob\n",
    "import os\n",
    "from rasterio.plot import show"
   ]
  },
  {
   "cell_type": "markdown",
   "metadata": {},
   "source": [
    "##### directory, search criteria and create list"
   ]
  },
  {
   "cell_type": "code",
   "execution_count": 3,
   "metadata": {},
   "outputs": [],
   "source": [
    "#input directory and tif creation\n",
    "directorioentrada= \"C:/Users/CB-2/Desktop/mosaicar1\"\n",
    "directoriosalida= \"C:Users/CB-2/Desktop/mosaicar1/resultados/Lista.tif\""
   ]
  },
  {
   "cell_type": "code",
   "execution_count": 4,
   "metadata": {},
   "outputs": [],
   "source": [
    "#we create a search criteria for the file\n",
    "criteriobusqueda =  \"B*.tif\"  \n",
    "#we create a search criteria variable called q\n",
    "q = os.path.join(directorioentrada, criteriobusqueda)\n",
    "#verificate\n",
    "print(q)"
   ]
  },
  {
   "cell_type": "code",
   "execution_count": 7,
   "metadata": {},
   "outputs": [],
   "source": [
    "# The glob.glob () function returns a list with the inputs that match the specified pattern\n",
    "archivoslista  =  glob.glob(q)   \n",
    "#verificate\n",
    "archivoslista\n",
    "\n",
    "#we create an empty list to add the tifs\n",
    "archivosamosaicar=[]"
   ]
  },
  {
   "cell_type": "code",
   "execution_count": 10,
   "metadata": {},
   "outputs": [],
   "source": [
    "# we create a loop to go through the list and insert the files in the empty list created previously\n",
    "for x in archivoslista:\n",
    "    ras=rasterio.open(x)\n",
    "    archivosamosaicar.append(ras)"
   ]
  },
  {
   "cell_type": "markdown",
   "metadata": {},
   "source": [
    "##### execute the function"
   ]
  },
  {
   "cell_type": "code",
   "execution_count": null,
   "metadata": {},
   "outputs": [],
   "source": [
    "#We execute the mosaic function with the necessary parameters\n",
    "mosaic, out_trans = merge(archivosamosaicar)\n",
    "#show to verify\n",
    "show(mosaic)"
   ]
  },
  {
   "cell_type": "markdown",
   "metadata": {},
   "source": [
    "##### Metadata and output"
   ]
  },
  {
   "cell_type": "code",
   "execution_count": null,
   "metadata": {},
   "outputs": [],
   "source": [
    "#copy the metadata\n",
    "out_meta = ras.meta.copy()"
   ]
  },
  {
   "cell_type": "code",
   "execution_count": null,
   "metadata": {},
   "outputs": [],
   "source": [
    "#metadata\n",
    "out_meta.update({\"driver\": \"GTiff\",\n",
    "                          \"height\": mosaic.shape[1],\n",
    "                          \"width\": mosaic.shape[2],\n",
    "                          \"transform\": out_trans,\n",
    "                          \"crs\": 'epsg:32631'\n",
    "                          }\n",
    "                         )"
   ]
  },
  {
   "cell_type": "code",
   "execution_count": null,
   "metadata": {},
   "outputs": [],
   "source": [
    "#write the file\n",
    "with rasterio.open(directoriosalida, \"w\", **out_meta) as dest:\n",
    "    dest.write(mosaic)  "
   ]
  },
  {
   "cell_type": "code",
   "execution_count": 15,
   "metadata": {},
   "outputs": [
    {
     "name": "stdout",
     "output_type": "stream",
     "text": [
      "Finalizado\n"
     ]
    }
   ],
   "source": [
    "print(\"Finalizado\")"
   ]
  }
 ],
 "metadata": {
  "kernelspec": {
   "display_name": "Python 3",
   "language": "python",
   "name": "python3"
  },
  "language_info": {
   "codemirror_mode": {
    "name": "ipython",
    "version": 3
   },
   "file_extension": ".py",
   "mimetype": "text/x-python",
   "name": "python",
   "nbconvert_exporter": "python",
   "pygments_lexer": "ipython3",
   "version": "3.8.6"
  }
 },
 "nbformat": 4,
 "nbformat_minor": 4
}
