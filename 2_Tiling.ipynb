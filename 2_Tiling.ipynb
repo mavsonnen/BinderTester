{
 "cells": [
  {
   "cell_type": "markdown",
   "metadata": {},
   "source": [
    "# TILING "
   ]
  },
  {
   "cell_type": "code",
   "execution_count": 15,
   "metadata": {},
   "outputs": [],
   "source": [
    "#import libraries\n",
    "import os\n",
    "import gdal"
   ]
  },
  {
   "cell_type": "markdown",
   "metadata": {},
   "source": [
    "##### directory"
   ]
  },
  {
   "cell_type": "code",
   "execution_count": 16,
   "metadata": {},
   "outputs": [],
   "source": [
    "#Place the image or images to make the tiling (routes)\n",
    "in_directory = '/home/jovyan/imagenes/'\n",
    "in_rastername = 'B2.tif'\n",
    "\n",
    "in_directoryout = '/home/jovyan/Output/'\n",
    "out_rastername = 'segmentado'"
   ]
  },
  {
   "cell_type": "markdown",
   "metadata": {},
   "source": [
    "##### set the raster shape"
   ]
  },
  {
   "cell_type": "code",
   "execution_count": null,
   "metadata": {},
   "outputs": [],
   "source": [
    "#Place the desired size of the tiling, you need consult \n",
    "sizeinx = 2745\n",
    "sizeiny = 2745\n",
    "\n",
    "#open and Choose band and opcions the program\n",
    "ds = gdal.Open(in_directory+ in_rastername)\n",
    "band = ds.GetRasterBand(1)\n",
    "xsize = band.XSize\n",
    "ysize = band.YSize"
   ]
  },
  {
   "cell_type": "code",
   "execution_count": null,
   "metadata": {},
   "outputs": [],
   "source": [
    "# go through the raster and call the console with gdal translate to perform the tiling, using the options indicated in the api gdal calling console\n",
    "for m in range(0, xsize, sizeinx):\n",
    "    for n in range(0, ysize, sizeiny):\n",
    "        transf_string = \"gdal_transl\" + str(i)+ \", \" + str(j) + \", \" + str(tile_size_x) + \", \" + str(tile_size_y) + \" \" + str(in_directory) + str(in_rastername) + \" \" + str(in_directoryout) + str(out_rastername) + str(i) + \"_\" + str(j) + \".tif\"\n",
    "        os.system(transf_string)"
   ]
  }
 ],
 "metadata": {
  "kernelspec": {
   "display_name": "Python 3",
   "language": "python",
   "name": "python3"
  },
  "language_info": {
   "codemirror_mode": {
    "name": "ipython",
    "version": 3
   },
   "file_extension": ".py",
   "mimetype": "text/x-python",
   "name": "python",
   "nbconvert_exporter": "python",
   "pygments_lexer": "ipython3",
   "version": "3.8.6"
  }
 },
 "nbformat": 4,
 "nbformat_minor": 4
}