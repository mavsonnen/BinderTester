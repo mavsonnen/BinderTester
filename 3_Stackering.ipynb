{
 "cells": [
  {
   "cell_type": "code",
   "execution_count": null,
   "metadata": {},
   "outputs": [],
   "source": [
    "#importamos librerias necesarias\n",
    "import rasterio\n",
    "from rasterio.merge import merge\n",
    "import glob\n",
    "import os\n",
    "from rasterio.plot import show"
   ]
  },
  {
   "cell_type": "code",
   "execution_count": null,
   "metadata": {},
   "outputs": [],
   "source": [
    "#directorio de entrada y la creacion de tif\n",
    "directorioentrada= \"F:/CB/mosaicar1\"\n",
    "directoriosalida= \"C:Users/CB-2/Desktop/mosaicar1/resultados/apilado.tif\""
   ]
  },
  {
   "cell_type": "code",
   "execution_count": null,
   "metadata": {},
   "outputs": [],
   "source": [
    "#creamos un criterio de busqueda para el archivo\n",
    "criteriobusqueda =  \"B*.tif\" "
   ]
  },
  {
   "cell_type": "code",
   "execution_count": null,
   "metadata": {},
   "outputs": [],
   "source": [
    "#creamos una variable de criterio de busqueda llamada p\n",
    "p = os.path.join(directorioentrada, criteriobusqueda)"
   ]
  },
  {
   "cell_type": "code",
   "execution_count": null,
   "metadata": {},
   "outputs": [],
   "source": [
    "print(p)"
   ]
  },
  {
   "cell_type": "code",
   "execution_count": null,
   "metadata": {},
   "outputs": [],
   "source": [
    "archivoslista  =  glob.glob(p)"
   ]
  },
  {
   "cell_type": "code",
   "execution_count": null,
   "metadata": {},
   "outputs": [],
   "source": [
    "archivoslista"
   ]
  },
  {
   "cell_type": "code",
   "execution_count": null,
   "metadata": {},
   "outputs": [],
   "source": [
    "#Creo un directorio\n",
    "img_dir = \"C:Users/CB-2/Desktop/mosaicar1/resultados2/\""
   ]
  },
  {
   "cell_type": "code",
   "execution_count": null,
   "metadata": {},
   "outputs": [],
   "source": [
    "#opcional, creacion de una carpeta para el resultado de nuestra imagen, si no existe que la cree\n",
    "if not os.path.exists(img_dir):\n",
    "    os.makedirs(img_dir)"
   ]
  },
  {
   "cell_type": "code",
   "execution_count": null,
   "metadata": {},
   "outputs": [],
   "source": [
    "#concatenamos para la ruta que estamos escribiendo\n",
    "img_fp = img_dir + 'archivoslista.tif'"
   ]
  },
  {
   "cell_type": "code",
   "execution_count": null,
   "metadata": {},
   "outputs": [],
   "source": [
    "#leemos cada capa y la escribimos para que se apile\n",
    "with rasterio.open(archivoslista[1]) as src0:\n",
    "    meta = src0.meta"
   ]
  },
  {
   "cell_type": "code",
   "execution_count": null,
   "metadata": {},
   "outputs": [],
   "source": [
    "#Actualizacion de los metadato, si no se realiza no surtira efecto\n",
    "meta.update(count = len(archivoslista))"
   ]
  },
  {
   "cell_type": "code",
   "execution_count": null,
   "metadata": {},
   "outputs": [],
   "source": [
    "#abrimos el directorio de imagenes, en modo escritura\n",
    "with rasterio.open(img_fp, 'w', **meta) as dst:                                     \n",
    "    for id, layer in enumerate(archivoslista, start=1):         # te permite recorrer una lista y decir desde donde comienza\n",
    "        with rasterio.open(layer) as src1:\n",
    "            dst.write_band(id, src1.read(1))                    # escribimos el archivo para que apile"
   ]
  },
  {
   "cell_type": "code",
   "execution_count": null,
   "metadata": {},
   "outputs": [],
   "source": [
    "#verifiquemos la geometria y el numero de bandas para asegurarnos que va todo bien                     \n",
    "full_dataset = rasterio.open(img_fp)                     # abrimos el raster completo\n",
    "img_rows, img_cols = full_dataset.shape                     \n",
    "img_bands = full_dataset.count"
   ]
  },
  {
   "cell_type": "code",
   "execution_count": null,
   "metadata": {},
   "outputs": [],
   "source": [
    "#Mostrar\n",
    "show(full_dataset, cmap='terrain')"
   ]
  },
  {
   "cell_type": "code",
   "execution_count": null,
   "metadata": {},
   "outputs": [],
   "source": [
    "#vemoslo a fondo\n",
    "\n",
    "print(full_dataset.shape) # dimensiones, tambien ,count"
   ]
  }
 ],
 "metadata": {
  "kernelspec": {
   "display_name": "Python 3",
   "language": "python",
   "name": "python3"
  },
  "language_info": {
   "codemirror_mode": {
    "name": "ipython",
    "version": 3
   },
   "file_extension": ".py",
   "mimetype": "text/x-python",
   "name": "python",
   "nbconvert_exporter": "python",
   "pygments_lexer": "ipython3",
   "version": "3.8.6"
  }
 },
 "nbformat": 4,
 "nbformat_minor": 4
}
