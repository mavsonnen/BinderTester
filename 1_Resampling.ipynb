{
 "cells": [
  {
   "cell_type": "markdown",
   "metadata": {},
   "source": [
    "# Resampling"
   ]
  },
  {
   "cell_type": "code",
   "execution_count": 1,
   "metadata": {},
   "outputs": [],
   "source": [
    "#import librarys\n",
    "from osgeo import gdal\n",
    "import os"
   ]
  },
  {
   "cell_type": "markdown",
   "metadata": {},
   "source": [
    "##### entry directorys"
   ]
  },
  {
   "cell_type": "code",
   "execution_count": 2,
   "metadata": {},
   "outputs": [],
   "source": [
    "#entry and exit routes\n",
    "input_path = 'C:/Users/CB-2/Desktop/mosaicar1/color/'\n",
    "output_path = 'C:/Users/CB-2/Desktop/mosaicar1/resultados/'"
   ]
  },
  {
   "cell_type": "code",
   "execution_count": null,
   "metadata": {},
   "outputs": [],
   "source": [
    "#for loop with in keyword, to traverse our input path, and set a search criteria\n",
    "bandList = [band for band in os.listdir(input_path) if band[-4:]=='.tif']\n",
    "print(bandList)"
   ]
  },
  {
   "cell_type": "markdown",
   "metadata": {},
   "source": [
    "##### run the gdal warp program and options"
   ]
  },
  {
   "cell_type": "code",
   "execution_count": null,
   "metadata": {},
   "outputs": [],
   "source": [
    "#implement the functions of the gdal - ogr class. Here is the initial step to reduce sentinel 2 images that are not 10 m\n",
    "for band in bandList:\n",
    "    options = gdal.WarpOptions(format = 'GTiff', xRes = 10, yRes = 10, resampleAlg = gdal.GRA_Bilinear) # Se utiliza bilinear\n",
    "    outBand = gdal.Warp(srcDSOrSrcDSTab=os.path.join(input_path + band),\n",
    "                        destNameOrDestDS=output_path + band[:-4]+'_Resamp'+band[-4:],\n",
    "                        options=options)"
   ]
  },
  {
   "cell_type": "code",
   "execution_count": null,
   "metadata": {},
   "outputs": [],
   "source": [
    "#close in memory \n",
    "outBand= None\n",
    "#verificate\n",
    "print(\"finalizado\")"
   ]
  }
 ],
 "metadata": {
  "kernelspec": {
   "display_name": "Python 3",
   "language": "python",
   "name": "python3"
  },
  "language_info": {
   "codemirror_mode": {
    "name": "ipython",
    "version": 3
   },
   "file_extension": ".py",
   "mimetype": "text/x-python",
   "name": "python",
   "nbconvert_exporter": "python",
   "pygments_lexer": "ipython3",
   "version": "3.8.6"
  }
 },
 "nbformat": 4,
 "nbformat_minor": 4
}
