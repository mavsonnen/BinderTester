{
 "cells": [
  {
   "cell_type": "markdown",
   "metadata": {},
   "source": [
    "# MASK"
   ]
  },
  {
   "cell_type": "code",
   "execution_count": 15,
   "metadata": {},
   "outputs": [],
   "source": [
    "#import libraries\n",
    "from osgeo import gdal\n",
    "import os"
   ]
  },
  {
   "cell_type": "code",
   "execution_count": 24,
   "metadata": {},
   "outputs": [],
   "source": [
    "#directory input and local output\n",
    "input_path = '/home/jovyan/work/mosaicar1/resultados2/'\n",
    "output_path = '/home/jovyan/work/mosaicar1/resultados/'"
   ]
  },
  {
   "cell_type": "code",
   "execution_count": 28,
   "metadata": {},
   "outputs": [
    {
     "name": "stdout",
     "output_type": "stream",
     "text": [
      "['B3_c2.tif', 'B4_c2.tif', 'B8_c2.tif', 'archivoslista.tif']\n"
     ]
    }
   ],
   "source": [
    "#search criteria\n",
    "Listb = [band for band in os.listdir(input_path) if band[-4:]=='.tif']\n",
    "#verificate\n",
    "print(bandList)"
   ]
  },
  {
   "cell_type": "code",
   "execution_count": 26,
   "metadata": {},
   "outputs": [
    {
     "name": "stdout",
     "output_type": "stream",
     "text": [
      "/home/jovyan/work/mosaicar1/ambito/ambitoc.shp\n"
     ]
    }
   ],
   "source": [
    "#shapefile for mask\n",
    "shp_mask = '/home/jovyan/work/mosaicar1/ambito/ambitoc.shp'\n",
    "print(shp_mask)"
   ]
  },
  {
   "cell_type": "code",
   "execution_count": 27,
   "metadata": {},
   "outputs": [
    {
     "name": "stdout",
     "output_type": "stream",
     "text": [
      "/home/jovyan/work/mosaicar1/resultados/B3_c2_c2.tif\n",
      "/home/jovyan/work/mosaicar1/resultados/B4_c2_c2.tif\n",
      "/home/jovyan/work/mosaicar1/resultados/B8_c2_c2.tif\n",
      "/home/jovyan/work/mosaicar1/resultados/archivoslista_c2.tif\n"
     ]
    }
   ],
   "source": [
    "#We set the necessary options following the options of the warp function\n",
    "for band in Listb:\n",
    "    options = gdal.WarpOptions(cutlineDSName=shp_mask,cropToCutline=True)\n",
    "    outBand = gdal.Warp(srcDSOrSrcDSTab=os.path.join(input_path + band),\n",
    "                        destNameOrDestfileDS=output_path + band[:-4]+'_c2'+band[-4:],\n",
    "                        options=options)\n",
    "                        \n",
    "outBand= None"
   ]
  }
 ],
 "metadata": {
  "kernelspec": {
   "display_name": "Python 3",
   "language": "python",
   "name": "python3"
  },
  "language_info": {
   "codemirror_mode": {
    "name": "ipython",
    "version": 3
   },
   "file_extension": ".py",
   "mimetype": "text/x-python",
   "name": "python",
   "nbconvert_exporter": "python",
   "pygments_lexer": "ipython3",
   "version": "3.8.6"
  }
 },
 "nbformat": 4,
 "nbformat_minor": 4
}
