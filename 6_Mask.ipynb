{
 "cells": [
  {
   "cell_type": "markdown",
   "metadata": {},
   "source": [
    "# MASK"
   ]
  },
  {
   "cell_type": "code",
   "execution_count": 73,
   "metadata": {},
   "outputs": [],
   "source": [
    "#import libraries\n",
    "from osgeo import gdal\n",
    "import os"
   ]
  },
  {
   "cell_type": "markdown",
   "metadata": {},
   "source": [
    "##### configure directories"
   ]
  },
  {
   "cell_type": "code",
   "execution_count": 74,
   "metadata": {},
   "outputs": [],
   "source": [
    "#directory input and local output\n",
    "inputdirectory = '/home/jovyan/imagenes/'\n",
    "outdirectory = '/home/jovyan/Output/'"
   ]
  },
  {
   "cell_type": "markdown",
   "metadata": {},
   "source": [
    "##### create loop for search"
   ]
  },
  {
   "cell_type": "code",
   "execution_count": 75,
   "metadata": {},
   "outputs": [
    {
     "name": "stdout",
     "output_type": "stream",
     "text": [
      "['B3.tif', 'B4.tif', 'B8.tif']\n"
     ]
    }
   ],
   "source": [
    "#search criteria\n",
    "Listb = [ras for ras in os.listdir(inputdirectory) if ras[-4:]=='.tif']\n",
    "#verificate\n",
    "print(Listb)"
   ]
  },
  {
   "cell_type": "markdown",
   "metadata": {},
   "source": [
    "##### mask"
   ]
  },
  {
   "cell_type": "code",
   "execution_count": 76,
   "metadata": {},
   "outputs": [
    {
     "data": {
      "text/plain": [
       "'/home/jovyan/work/mosaicar1/ambito/ambitoc.shp'"
      ]
     },
     "execution_count": 76,
     "metadata": {},
     "output_type": "execute_result"
    }
   ],
   "source": [
    "#shapefile for mask\n",
    "shp_mask = '/home/jovyan/work/mosaicar1/ambito/ambitoc.shp'\n",
    "shp_mask"
   ]
  },
  {
   "cell_type": "markdown",
   "metadata": {},
   "source": [
    "##### execute the program "
   ]
  },
  {
   "cell_type": "code",
   "execution_count": 77,
   "metadata": {},
   "outputs": [],
   "source": [
    "#We configure the necessary options following the options of the warp function in the OSGEO api\n",
    "for ras in Listb:\n",
    "    options = gdal.WarpOptions(cutlineDSName=shp_mask,cropToCutline=True)\n",
    "    outBand = gdal.Warp(srcDSOrSrcDSTab=os.path.join(inputdirectory + band),\n",
    "                        destNameOrDestDS=outdirectory + ras[:-4]+'_cut'+ras[-4:],\n",
    "                        options=options)\n",
    "\n",
    "#close in memory    \n",
    "outfile= None"
   ]
  }
 ],
 "metadata": {
  "kernelspec": {
   "display_name": "Python 3",
   "language": "python",
   "name": "python3"
  },
  "language_info": {
   "codemirror_mode": {
    "name": "ipython",
    "version": 3
   },
   "file_extension": ".py",
   "mimetype": "text/x-python",
   "name": "python",
   "nbconvert_exporter": "python",
   "pygments_lexer": "ipython3",
   "version": "3.8.6"
  }
 },
 "nbformat": 4,
 "nbformat_minor": 4
}